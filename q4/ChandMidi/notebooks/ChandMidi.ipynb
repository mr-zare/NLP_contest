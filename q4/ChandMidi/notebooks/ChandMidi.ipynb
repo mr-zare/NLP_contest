{
  "cells": [
    {
      "cell_type": "markdown",
      "id": "mQIQ2KCw3y93",
      "metadata": {
        "id": "mQIQ2KCw3y93"
      },
      "source": [
        "<h1 align=center style=\"line-height:200%;font-family:vazir;color:#0099cc\">\n",
        "<font face=\"vazir\" color=\"#0099cc\">\n",
        "به فیلم چند میدی؟\n",
        "</font>\n",
        "</h1>"
      ]
    },
    {
      "cell_type": "markdown",
      "id": "6yYxGdnX3y95",
      "metadata": {
        "id": "6yYxGdnX3y95"
      },
      "source": [
        "<h2 align=right style=\"line-height:200%;font-family:vazir;color:#0099cc\">\n",
        "<font face=\"vazir\" color=\"#0099cc\">\n",
        "مقدمه و صورت مسئله\n",
        "</font>\n",
        "</h2>\n",
        "\n",
        "<p dir=rtl style=\"direction: rtl; text-align: justify; line-height:200%; font-family:vazir; font-size:medium\">\n",
        "<font face=\"vazir\" size=3>\n",
        "کاربران می‌توانند در وب‌سایت IMDb با توجه به تجربه‌شان از دیدن یک فیلم یا سریال، به آن هر امتیازی از ۱ تا ۱۰ بدهند و برای آن نقدی بنویسند. در این مسئله قصد داریم با استفاده از مجموعه‌ای از امتیازات و نقدهای کاربران برای بسیاری از فیلم‌ها و سریال‌ها، مدلی را آموزش دهیم که بتواند بر اساس نقد متنی نوشته شده، امتیاز داده شده را پیش‌بینی کند.\n",
        "</font>\n",
        "</p>"
      ]
    },
    {
      "cell_type": "markdown",
      "id": "njXPc-tp3y95",
      "metadata": {
        "id": "njXPc-tp3y95"
      },
      "source": [
        "<h2 align=right style=\"line-height:200%;font-family:vazir;color:#0099cc\">\n",
        "<font face=\"vazir\" color=\"#0099cc\">\n",
        "وارد کردن کتابخانه‌های مورد نیاز\n",
        "</font>\n",
        "</h2>\n",
        "\n",
        "<p dir=rtl style=\"direction: rtl; text-align: justify; line-height:200%; font-family:vazir; font-size:medium\">\n",
        "<font face=\"vazir\" size=3>\n",
        "    ابتدا کتابخانه‌های مورد نیازتان را وارد کنید.\n",
        "</font>\n",
        "</p>"
      ]
    },
    {
      "cell_type": "code",
      "execution_count": 1,
      "id": "nEdd-Gd03y96",
      "metadata": {
        "id": "nEdd-Gd03y96"
      },
      "outputs": [],
      "source": [
        "import pandas as pd\n",
        "import numpy as np"
      ]
    },
    {
      "cell_type": "markdown",
      "id": "NvACg3R63y96",
      "metadata": {
        "id": "NvACg3R63y96"
      },
      "source": [
        "<h2 align=right style=\"line-height:200%;font-family:vazir;color:#0099cc\">\n",
        "<font face=\"vazir\" color=\"#0099cc\">\n",
        "معرفی مجموعه داده\n",
        "</font>\n",
        "</h2>\n",
        "\n",
        "<p dir=rtl style=\"direction: rtl; text-align: justify; line-height:200%; font-family:vazir; font-size:medium\">\n",
        "<font face=\"vazir\" size=3>\n",
        "مجموعه داده آموزشی شامل ۱۱۰۶۱ سطر است که در جدول زیر، توضیحات هر ستون آمده است.\n",
        "</font>\n",
        "</p>\n",
        "\n",
        "<center>\n",
        "<div dir=rtl style=\"direction: rtl;line-height:200%;font-family:vazir;font-size:medium\">\n",
        "<font face=\"vazir\" size=3>\n",
        "    \n",
        "|ستون|توضیحات|\n",
        "|:------:|:---:|\n",
        "|Movie_ID|شناسه‌ی یکتای هر فیلم در وبسایت IMDb|\n",
        "|Review|نقد نوشته شده برای این فیلم توسط کاربر|\n",
        "|Rating|امتیاز داده شده توسط کاربر|\n",
        "\n",
        "    \n",
        "</font>\n",
        "</div>\n",
        "</center>\n",
        "\n",
        "\n",
        "<p dir=rtl style=\"direction: rtl; text-align: justify; line-height:200%; font-family:vazir; font-size:medium\">\n",
        "<font face=\"vazir\" size=3>\n",
        "    مجموعه داده آزمایش نیز مانند مجموعه آموزش است با این تفاوت که ستون <code>Rating</code> که متغیر هدف مسئله است را در خود ندارد. مجموعه داده آزمایش ۲۷۶۵ سطر دارد.\n",
        "</font>\n",
        "</p>\n"
      ]
    },
    {
      "cell_type": "markdown",
      "id": "C2poTbOJ3y97",
      "metadata": {
        "id": "C2poTbOJ3y97"
      },
      "source": [
        "<h2 align=right style=\"line-height:200%;font-family:vazir;color:#0099cc\">\n",
        "<font face=\"vazir\" color=\"#0099cc\">\n",
        "خواندن مجموعه داده\n",
        "</font>\n",
        "</h2>\n",
        "\n",
        "<p dir=rtl style=\"direction: rtl; text-align: justify; line-height:200%; font-family:vazir; font-size:medium\">\n",
        "<font face=\"vazir\" size=3>\n",
        "    در ابتدا نیاز است فایل‌های مجموعه‌داده را بخوانید. نمونه‌های آموزشی در فایل <code>train.csv</code> و نمونه‌های آزمون که باید دسته‌ی آن‌ها را پیش‌بینی کنید در فایل <code>test.csv</code> ذخیره شده‌اند. اگر لازم دانستید می‌توانید به دلخواه خود بخشی از دادگان آموزشی را به عنوان دادگان اعتبارسنجی نیز جدا کنید.\n",
        "</font>\n",
        "</p>"
      ]
    },
    {
      "cell_type": "code",
      "execution_count": 2,
      "id": "ahBEWw0X3y97",
      "metadata": {
        "colab": {
          "base_uri": "https://localhost:8080/",
          "height": 423
        },
        "id": "ahBEWw0X3y97",
        "outputId": "59b8c51d-786e-445e-d6f8-3cc3a6cbc9e3"
      },
      "outputs": [
        {
          "data": {
            "text/html": [
              "<div>\n",
              "<style scoped>\n",
              "    .dataframe tbody tr th:only-of-type {\n",
              "        vertical-align: middle;\n",
              "    }\n",
              "\n",
              "    .dataframe tbody tr th {\n",
              "        vertical-align: top;\n",
              "    }\n",
              "\n",
              "    .dataframe thead th {\n",
              "        text-align: right;\n",
              "    }\n",
              "</style>\n",
              "<table border=\"1\" class=\"dataframe\">\n",
              "  <thead>\n",
              "    <tr style=\"text-align: right;\">\n",
              "      <th></th>\n",
              "      <th>Review</th>\n",
              "      <th>Rating</th>\n",
              "    </tr>\n",
              "  </thead>\n",
              "  <tbody>\n",
              "    <tr>\n",
              "      <th>0</th>\n",
              "      <td>This is a film that is made by a filmmaker at ...</td>\n",
              "      <td>6.0</td>\n",
              "    </tr>\n",
              "    <tr>\n",
              "      <th>1</th>\n",
              "      <td>Directed By David Fincher Seven Stars Brad Pit...</td>\n",
              "      <td>3.0</td>\n",
              "    </tr>\n",
              "    <tr>\n",
              "      <th>2</th>\n",
              "      <td>My least favorite Christmas treat for my famil...</td>\n",
              "      <td>1.0</td>\n",
              "    </tr>\n",
              "    <tr>\n",
              "      <th>3</th>\n",
              "      <td>just read the title. Tough I think it's a pret...</td>\n",
              "      <td>1.0</td>\n",
              "    </tr>\n",
              "    <tr>\n",
              "      <th>4</th>\n",
              "      <td>C. Waltz is the new discovery in this movie. H...</td>\n",
              "      <td>9.0</td>\n",
              "    </tr>\n",
              "    <tr>\n",
              "      <th>...</th>\n",
              "      <td>...</td>\n",
              "      <td>...</td>\n",
              "    </tr>\n",
              "    <tr>\n",
              "      <th>11049</th>\n",
              "      <td>I got a chance to see 'Batman Begins' just thi...</td>\n",
              "      <td>10.0</td>\n",
              "    </tr>\n",
              "    <tr>\n",
              "      <th>11050</th>\n",
              "      <td>A monstrous croc is discovered to live in a re...</td>\n",
              "      <td>7.0</td>\n",
              "    </tr>\n",
              "    <tr>\n",
              "      <th>11051</th>\n",
              "      <td>Although everybody praises the performance of ...</td>\n",
              "      <td>9.0</td>\n",
              "    </tr>\n",
              "    <tr>\n",
              "      <th>11052</th>\n",
              "      <td>Overrated. Whiny. 8 million better movies. Sto...</td>\n",
              "      <td>5.0</td>\n",
              "    </tr>\n",
              "    <tr>\n",
              "      <th>11053</th>\n",
              "      <td>BATMAN BEGINS rejuvenates if totally regenerat...</td>\n",
              "      <td>6.0</td>\n",
              "    </tr>\n",
              "  </tbody>\n",
              "</table>\n",
              "<p>11054 rows × 2 columns</p>\n",
              "</div>"
            ],
            "text/plain": [
              "                                                  Review  Rating\n",
              "0      This is a film that is made by a filmmaker at ...     6.0\n",
              "1      Directed By David Fincher Seven Stars Brad Pit...     3.0\n",
              "2      My least favorite Christmas treat for my famil...     1.0\n",
              "3      just read the title. Tough I think it's a pret...     1.0\n",
              "4      C. Waltz is the new discovery in this movie. H...     9.0\n",
              "...                                                  ...     ...\n",
              "11049  I got a chance to see 'Batman Begins' just thi...    10.0\n",
              "11050  A monstrous croc is discovered to live in a re...     7.0\n",
              "11051  Although everybody praises the performance of ...     9.0\n",
              "11052  Overrated. Whiny. 8 million better movies. Sto...     5.0\n",
              "11053  BATMAN BEGINS rejuvenates if totally regenerat...     6.0\n",
              "\n",
              "[11054 rows x 2 columns]"
            ]
          },
          "execution_count": 2,
          "metadata": {},
          "output_type": "execute_result"
        }
      ],
      "source": [
        "train_data = pd.read_csv('../data/train.csv')\n",
        "train_data=train_data.drop(columns=['Movie_ID'])\n",
        "train_data= train_data.dropna(subset=['Rating']).reset_index(drop=True)\n",
        "train_data"
      ]
    },
    {
      "cell_type": "code",
      "execution_count": 3,
      "id": "iadEAWDe3y97",
      "metadata": {
        "colab": {
          "base_uri": "https://localhost:8080/",
          "height": 423
        },
        "id": "iadEAWDe3y97",
        "outputId": "6ce11ea8-d01b-41d3-b432-24a0c94a1c5b"
      },
      "outputs": [
        {
          "data": {
            "text/html": [
              "<div>\n",
              "<style scoped>\n",
              "    .dataframe tbody tr th:only-of-type {\n",
              "        vertical-align: middle;\n",
              "    }\n",
              "\n",
              "    .dataframe tbody tr th {\n",
              "        vertical-align: top;\n",
              "    }\n",
              "\n",
              "    .dataframe thead th {\n",
              "        text-align: right;\n",
              "    }\n",
              "</style>\n",
              "<table border=\"1\" class=\"dataframe\">\n",
              "  <thead>\n",
              "    <tr style=\"text-align: right;\">\n",
              "      <th></th>\n",
              "      <th>Review</th>\n",
              "    </tr>\n",
              "  </thead>\n",
              "  <tbody>\n",
              "    <tr>\n",
              "      <th>0</th>\n",
              "      <td>This movie shows that despite failure, despite...</td>\n",
              "    </tr>\n",
              "    <tr>\n",
              "      <th>1</th>\n",
              "      <td>I did like pulp fiction to a degree - that is ...</td>\n",
              "    </tr>\n",
              "    <tr>\n",
              "      <th>2</th>\n",
              "      <td>I always feel like I am missing something when...</td>\n",
              "    </tr>\n",
              "    <tr>\n",
              "      <th>3</th>\n",
              "      <td>One of the early scenes in \"Pulp Fiction\" feat...</td>\n",
              "    </tr>\n",
              "    <tr>\n",
              "      <th>4</th>\n",
              "      <td>There are many mafia movies out there but The ...</td>\n",
              "    </tr>\n",
              "    <tr>\n",
              "      <th>...</th>\n",
              "      <td>...</td>\n",
              "    </tr>\n",
              "    <tr>\n",
              "      <th>2758</th>\n",
              "      <td>Greetings again from the darkness. Quentin Tar...</td>\n",
              "    </tr>\n",
              "    <tr>\n",
              "      <th>2759</th>\n",
              "      <td>'Lake Placid' is a great example of mixing com...</td>\n",
              "    </tr>\n",
              "    <tr>\n",
              "      <th>2760</th>\n",
              "      <td>After the glory of the first film, and the alm...</td>\n",
              "    </tr>\n",
              "    <tr>\n",
              "      <th>2761</th>\n",
              "      <td>Some of us may know the back story of how Tolk...</td>\n",
              "    </tr>\n",
              "    <tr>\n",
              "      <th>2762</th>\n",
              "      <td>I was expecting more from the this film. Thats...</td>\n",
              "    </tr>\n",
              "  </tbody>\n",
              "</table>\n",
              "<p>2763 rows × 1 columns</p>\n",
              "</div>"
            ],
            "text/plain": [
              "                                                 Review\n",
              "0     This movie shows that despite failure, despite...\n",
              "1     I did like pulp fiction to a degree - that is ...\n",
              "2     I always feel like I am missing something when...\n",
              "3     One of the early scenes in \"Pulp Fiction\" feat...\n",
              "4     There are many mafia movies out there but The ...\n",
              "...                                                 ...\n",
              "2758  Greetings again from the darkness. Quentin Tar...\n",
              "2759  'Lake Placid' is a great example of mixing com...\n",
              "2760  After the glory of the first film, and the alm...\n",
              "2761  Some of us may know the back story of how Tolk...\n",
              "2762  I was expecting more from the this film. Thats...\n",
              "\n",
              "[2763 rows x 1 columns]"
            ]
          },
          "execution_count": 3,
          "metadata": {},
          "output_type": "execute_result"
        }
      ],
      "source": [
        "test_data = pd.read_csv('../data/test.csv')\n",
        "test_data=test_data.drop(columns=['Movie_ID'])\n",
        "test_data"
      ]
    },
    {
      "cell_type": "markdown",
      "id": "3sbq4ZVk3y98",
      "metadata": {
        "id": "3sbq4ZVk3y98"
      },
      "source": [
        "<h2 align=right style=\"line-height:200%;font-family:vazir;color:#0099cc\">\n",
        "<font face=\"vazir\" color=\"#0099cc\">\n",
        "پیش‌پردازش و مهندسی ویژگی\n",
        "</font>\n",
        "</h2>\n",
        "\n",
        "<p dir=rtl style=\"direction: rtl; text-align: justify; line-height:200%; font-family:vazir; font-size:medium\">\n",
        "<font face=\"vazir\" size=3>\n",
        "    در این سوال شما می‌توانید از هر تکنیک پیش‌پردازش/مهندسی ویژگی که در گذشته آموختید، استفاده کنید.\n",
        "    <br>\n",
        "    تکنیک‌هایی که استفاده می‌کنید به شکل مستقیم مورد ارزیابی توسط سامانه داوری قرار <b>نمی‌گیرند.</b> بلکه همه آن‌ها در دقت مدل شما تاثیر خواهند گذاشت؛ بنابراین هر چه پیش‌پردازش/مهندسی ویژگی بهتری انجام دهید تا دقت مدل بهبود پیدا کند، امتیاز بیشتری از این سوال کسب خواهید کرد.\n",
        "</font>\n",
        "</p>"
      ]
    },
    {
      "cell_type": "code",
      "execution_count": 4,
      "id": "XurKDwcO3y98",
      "metadata": {
        "colab": {
          "base_uri": "https://localhost:8080/"
        },
        "id": "XurKDwcO3y98",
        "outputId": "5807f140-f633-47ae-f3f3-3896c6ab4488"
      },
      "outputs": [
        {
          "name": "stderr",
          "output_type": "stream",
          "text": [
            "[nltk_data] Downloading package stopwords to\n",
            "[nltk_data]     C:\\Users\\ASUS\\AppData\\Roaming\\nltk_data...\n",
            "[nltk_data]   Package stopwords is already up-to-date!\n",
            "[nltk_data] Downloading package wordnet to\n",
            "[nltk_data]     C:\\Users\\ASUS\\AppData\\Roaming\\nltk_data...\n",
            "[nltk_data]   Package wordnet is already up-to-date!\n"
          ]
        },
        {
          "data": {
            "text/plain": [
              "True"
            ]
          },
          "execution_count": 4,
          "metadata": {},
          "output_type": "execute_result"
        }
      ],
      "source": [
        "import nltk\n",
        "nltk.download('stopwords')\n",
        "nltk.download('wordnet')\n"
      ]
    },
    {
      "cell_type": "code",
      "execution_count": 5,
      "id": "suFKB3U1RY2-",
      "metadata": {
        "colab": {
          "base_uri": "https://localhost:8080/"
        },
        "id": "suFKB3U1RY2-",
        "outputId": "3c7dd069-e403-4fe4-fad5-f371a833f49a"
      },
      "outputs": [
        {
          "name": "stdout",
          "output_type": "stream",
          "text": [
            "Requirement already satisfied: textblob in c:\\python311\\lib\\site-packages (0.18.0.post0)\n",
            "Requirement already satisfied: nltk>=3.8 in c:\\python311\\lib\\site-packages (from textblob) (3.9.1)\n",
            "Requirement already satisfied: click in c:\\python311\\lib\\site-packages (from nltk>=3.8->textblob) (8.1.6)\n",
            "Requirement already satisfied: joblib in c:\\python311\\lib\\site-packages (from nltk>=3.8->textblob) (1.4.2)\n",
            "Requirement already satisfied: regex>=2021.8.3 in c:\\python311\\lib\\site-packages (from nltk>=3.8->textblob) (2024.5.15)\n",
            "Requirement already satisfied: tqdm in c:\\python311\\lib\\site-packages (from nltk>=3.8->textblob) (4.66.5)\n",
            "Requirement already satisfied: colorama in c:\\python311\\lib\\site-packages (from click->nltk>=3.8->textblob) (0.4.6)\n"
          ]
        },
        {
          "name": "stderr",
          "output_type": "stream",
          "text": [
            "\n",
            "[notice] A new release of pip is available: 23.0.1 -> 24.2\n",
            "[notice] To update, run: python.exe -m pip install --upgrade pip\n"
          ]
        }
      ],
      "source": [
        "!pip install textblob"
      ]
    },
    {
      "cell_type": "code",
      "execution_count": 6,
      "id": "pBKfIFLL3y98",
      "metadata": {
        "id": "pBKfIFLL3y98"
      },
      "outputs": [],
      "source": [
        " # do some preprocessing\n",
        "import re\n",
        "from nltk.corpus import stopwords\n",
        "from nltk.stem import WordNetLemmatizer\n",
        "from sklearn.feature_extraction.text import TfidfVectorizer\n",
        "from textblob import TextBlob\n",
        "from sklearn.feature_selection import VarianceThreshold\n",
        "\n",
        "lem=WordNetLemmatizer()\n",
        "stop_words=set(stopwords.words('english'))\n",
        "\n",
        "def get_sentiment(text):\n",
        "    return TextBlob(text).sentiment.polarity\n",
        "\n",
        "def prep_text(text):\n",
        "    text=re.sub(r'[^a-zA-Z\\s]','',text)\n",
        "    text=text.lower()\n",
        "    tokens=text.split()\n",
        "    tokens=[lem.lemmatize(word) for word in tokens if word not in stop_words]\n",
        "    return ' '.join(tokens)\n",
        "\n",
        "train_data['clean_Review']=train_data['Review'].apply(prep_text)\n",
        "test_data['clean_Review']=test_data['Review'].apply(prep_text)\n",
        "\n",
        "\n",
        "train_data['sentiment'] = train_data['clean_Review'].apply(get_sentiment)\n",
        "test_data['sentiment'] = test_data['clean_Review'].apply(get_sentiment)\n",
        "\n",
        "train_data['subjectivity'] = train_data['clean_Review'].apply(lambda x: TextBlob(x).sentiment.subjectivity)\n",
        "test_data['subjectivity'] = test_data['clean_Review'].apply(lambda x: TextBlob(x).sentiment.subjectivity)\n",
        "\n",
        "train_data['review_length'] = train_data['clean_Review'].apply(lambda x: len(x.split()))\n",
        "test_data['review_length'] = test_data['clean_Review'].apply(lambda x: len(x.split()))\n",
        "\n",
        "\n",
        "vec = TfidfVectorizer(max_features=500, ngram_range=(1, 3))\n",
        "\n",
        "train_tfidf = vec.fit_transform(train_data['clean_Review'])\n",
        "test_tfidf = vec.transform(test_data['clean_Review'])\n",
        "X_train = np.hstack([train_tfidf.toarray(), train_data[['sentiment', 'subjectivity', 'review_length']].values])\n",
        "X_test = np.hstack([test_tfidf.toarray(), test_data[['sentiment', 'subjectivity', 'review_length']].values])\n",
        "\n",
        "\n",
        "y=train_data['Rating']\n",
        "\n",
        "selector = VarianceThreshold(threshold=0.001)\n",
        "X_train = selector.fit_transform(X_train)\n",
        "X_test = selector.transform(X_test)"
      ]
    },
    {
      "cell_type": "markdown",
      "id": "vgygKOqN3y98",
      "metadata": {
        "id": "vgygKOqN3y98"
      },
      "source": [
        "<h2 align=right style=\"line-height:200%;font-family:vazir;color:#0099cc\">\n",
        "<font face=\"vazir\" color=\"#0099cc\">\n",
        "مدل‌سازی\n",
        "</font>\n",
        "</h2>\n",
        "\n",
        "<p dir=rtl style=\"direction: rtl; text-align: justify; line-height:200%; font-family:vazir; font-size:medium\">\n",
        "<font face=\"vazir\" size=3>\n",
        "    حال که داده را پاکسازی کرده‌اید، وقت آن است که مدلی آموزش دهید که بتواند متغیر هدف این مسئله را پیش‌بینی کند.\n",
        "    <br>\n",
        "    شما مجاز هستید از هر مدلی که آموخته‌اید استفاده کنید. به عبارت بهتر، هدف این سوال پیش‌بینی هرچه بهتر متغیر هدف مسئله است!\n",
        "</font>\n",
        "</p>"
      ]
    },
    {
      "cell_type": "code",
      "execution_count": 7,
      "id": "ConGMq0kdiJi",
      "metadata": {
        "colab": {
          "base_uri": "https://localhost:8080/"
        },
        "id": "ConGMq0kdiJi",
        "outputId": "f61b12af-59fc-4e44-9ec1-d68624a166f1"
      },
      "outputs": [
        {
          "name": "stdout",
          "output_type": "stream",
          "text": [
            "Collecting lightgbm"
          ]
        },
        {
          "name": "stderr",
          "output_type": "stream",
          "text": [
            "\n",
            "[notice] A new release of pip is available: 23.0.1 -> 24.2\n",
            "[notice] To update, run: python.exe -m pip install --upgrade pip\n"
          ]
        },
        {
          "name": "stdout",
          "output_type": "stream",
          "text": [
            "\n",
            "  Downloading lightgbm-4.5.0-py3-none-win_amd64.whl (1.4 MB)\n",
            "     ---------------------------------------- 0.0/1.4 MB ? eta -:--:--\n",
            "      --------------------------------------- 0.0/1.4 MB 217.9 kB/s eta 0:00:07\n",
            "     - -------------------------------------- 0.1/1.4 MB 656.4 kB/s eta 0:00:03\n",
            "     - -------------------------------------- 0.1/1.4 MB 656.4 kB/s eta 0:00:03\n",
            "     - -------------------------------------- 0.1/1.4 MB 656.4 kB/s eta 0:00:03\n",
            "     - -------------------------------------- 0.1/1.4 MB 656.4 kB/s eta 0:00:03\n",
            "     --- ------------------------------------ 0.1/1.4 MB 450.6 kB/s eta 0:00:03\n",
            "     --- ------------------------------------ 0.1/1.4 MB 450.6 kB/s eta 0:00:03\n",
            "     --- ------------------------------------ 0.1/1.4 MB 450.6 kB/s eta 0:00:03\n",
            "     --- ------------------------------------ 0.1/1.4 MB 450.6 kB/s eta 0:00:03\n",
            "     ---- ----------------------------------- 0.2/1.4 MB 361.7 kB/s eta 0:00:04\n",
            "     ------- -------------------------------- 0.3/1.4 MB 491.5 kB/s eta 0:00:03\n",
            "     --------- ------------------------------ 0.4/1.4 MB 636.5 kB/s eta 0:00:02\n",
            "     ----------- ---------------------------- 0.4/1.4 MB 709.3 kB/s eta 0:00:02\n",
            "     ----------- ---------------------------- 0.4/1.4 MB 709.3 kB/s eta 0:00:02\n",
            "     -------------- ------------------------- 0.5/1.4 MB 780.5 kB/s eta 0:00:02\n",
            "     ------------------ --------------------- 0.7/1.4 MB 911.5 kB/s eta 0:00:01\n",
            "     -------------------- ------------------- 0.7/1.4 MB 955.7 kB/s eta 0:00:01\n",
            "     -------------------- ------------------- 0.7/1.4 MB 955.7 kB/s eta 0:00:01\n",
            "     -------------------- ------------------- 0.7/1.4 MB 955.7 kB/s eta 0:00:01\n",
            "     ----------------------- ---------------- 0.9/1.4 MB 938.1 kB/s eta 0:00:01\n",
            "     ------------------------- -------------- 0.9/1.4 MB 960.7 kB/s eta 0:00:01\n",
            "     ------------------------- -------------- 0.9/1.4 MB 960.7 kB/s eta 0:00:01\n",
            "     ------------------------- -------------- 0.9/1.4 MB 960.7 kB/s eta 0:00:01\n",
            "     ------------------------- -------------- 0.9/1.4 MB 960.7 kB/s eta 0:00:01\n",
            "     ----------------------------- ---------- 1.1/1.4 MB 941.8 kB/s eta 0:00:01\n",
            "     --------------------------------- ------ 1.2/1.4 MB 1.0 MB/s eta 0:00:01\n",
            "     ----------------------------------- ---- 1.3/1.4 MB 1.1 MB/s eta 0:00:01\n",
            "     ----------------------------------- ---- 1.3/1.4 MB 1.1 MB/s eta 0:00:01\n",
            "     ---------------------------------------- 1.4/1.4 MB 1.1 MB/s eta 0:00:00\n",
            "Requirement already satisfied: numpy>=1.17.0 in c:\\python311\\lib\\site-packages (from lightgbm) (1.24.3)\n",
            "Requirement already satisfied: scipy in c:\\python311\\lib\\site-packages (from lightgbm) (1.10.1)\n",
            "Installing collected packages: lightgbm\n",
            "Successfully installed lightgbm-4.5.0\n"
          ]
        }
      ],
      "source": [
        "!pip install lightgbm"
      ]
    },
    {
      "cell_type": "code",
      "execution_count": 8,
      "id": "8mdZEOhhX0yx",
      "metadata": {
        "id": "8mdZEOhhX0yx"
      },
      "outputs": [],
      "source": [
        "from sklearn.ensemble import RandomForestRegressor\n",
        "from sklearn.model_selection import train_test_split, RandomizedSearchCV\n",
        "from sklearn.metrics import mean_squared_error, r2_score\n",
        "from lightgbm import LGBMRegressor\n",
        "import time\n",
        "from sklearn.svm import SVR\n"
      ]
    },
    {
      "cell_type": "code",
      "execution_count": 9,
      "id": "fXr5ofsaX76r",
      "metadata": {
        "id": "fXr5ofsaX76r"
      },
      "outputs": [],
      "source": [
        "X_train, X_val, y_train, y_val = train_test_split(X_train, y, test_size=0.2, random_state=42)"
      ]
    },
    {
      "cell_type": "code",
      "execution_count": 11,
      "id": "v76YffEYdZY2",
      "metadata": {
        "colab": {
          "base_uri": "https://localhost:8080/"
        },
        "id": "v76YffEYdZY2",
        "outputId": "c805e490-4a77-4aea-deb9-94869caa5115"
      },
      "outputs": [
        {
          "name": "stdout",
          "output_type": "stream",
          "text": [
            "[LightGBM] [Warning] min_data_in_leaf is set=50, min_child_samples=20 will be ignored. Current value: min_data_in_leaf=50\n",
            "[LightGBM] [Warning] lambda_l1 is set=0.1, reg_alpha=0.0 will be ignored. Current value: lambda_l1=0.1\n",
            "[LightGBM] [Warning] lambda_l2 is set=0.1, reg_lambda=0.0 will be ignored. Current value: lambda_l2=0.1\n",
            "[LightGBM] [Warning] min_data_in_leaf is set=50, min_child_samples=20 will be ignored. Current value: min_data_in_leaf=50\n",
            "[LightGBM] [Warning] lambda_l1 is set=0.1, reg_alpha=0.0 will be ignored. Current value: lambda_l1=0.1\n",
            "[LightGBM] [Warning] lambda_l2 is set=0.1, reg_lambda=0.0 will be ignored. Current value: lambda_l2=0.1\n",
            "[LightGBM] [Info] Total Bins 90356\n",
            "[LightGBM] [Info] Number of data points in the train set: 8843, number of used features: 456\n",
            "[LightGBM] [Info] Start training from score 5.678955\n",
            "[LightGBM] [Warning] No further splits with positive gain, best gain: -inf\n",
            "[LightGBM] [Warning] No further splits with positive gain, best gain: -inf\n",
            "[LightGBM] [Warning] No further splits with positive gain, best gain: -inf\n",
            "[LightGBM] [Warning] min_data_in_leaf is set=50, min_child_samples=20 will be ignored. Current value: min_data_in_leaf=50\n",
            "[LightGBM] [Warning] lambda_l1 is set=0.1, reg_alpha=0.0 will be ignored. Current value: lambda_l1=0.1\n",
            "[LightGBM] [Warning] lambda_l2 is set=0.1, reg_lambda=0.0 will be ignored. Current value: lambda_l2=0.1\n",
            "LightGBM R² score: 0.7368873183636118\n"
          ]
        }
      ],
      "source": [
        "# modeling\n",
        "from lightgbm import LGBMRegressor\n",
        "from sklearn.model_selection import RandomizedSearchCV\n",
        "\n",
        "\n",
        "lgbm = LGBMRegressor(\n",
        "    num_leaves=90,\n",
        "    max_depth=60,\n",
        "    learning_rate=0.05,\n",
        "    n_estimators=500,\n",
        "    lambda_l1=0.1,  # Add L1 regularization\n",
        "    lambda_l2=0.1,  # Add L2 regularization\n",
        "    min_data_in_leaf=50,\n",
        "    subsample=0.9,\n",
        "    random_state=42,\n",
        "    force_col_wise=True  # Force column-wise splitting\n",
        "\n",
        ")\n",
        "lgbm.fit(X_train, y_train)\n",
        "y_pred_lgbm = lgbm.predict(X_val)\n",
        "r2_lgbm = r2_score(y_val, y_pred_lgbm)\n",
        "print(\"LightGBM R² score:\", r2_lgbm)\n"
      ]
    },
    {
      "cell_type": "markdown",
      "id": "iokazVk23y98",
      "metadata": {
        "id": "iokazVk23y98"
      },
      "source": [
        "<h3 align=right style=\"line-height:200%;font-family:vazir;color:#0099cc\">\n",
        "<font face=\"vazir\" color=\"#0099cc\">\n",
        "معیار ارزیابی\n",
        "</font>\n",
        "</h3>\n",
        "\n",
        "<p dir=rtl style=\"direction: rtl; text-align: justify; line-height:200%; font-family:vazir; font-size:medium\">\n",
        "<font face=\"vazir\" size=3>\n",
        "    معیاری که برای ارزیابی عملکرد مدل انتخاب کرده‌ایم، <code>r2_score</code> نام دارد.\n",
        "    <br>\n",
        "    این معیار، سنجه ارزیابی کیفیت مدل شماست. به عبارت بهتر در سامانه داوری هم از همین معیار برای نمره‌دهی استفاده شده است.\n",
        "    <br>\n",
        "    پیشنهاد می‌شود با توجه به این معیار، عملکرد مدل خود را بر روی مجموعه داده آموزش یا اعتبارسنجی ارزیابی کنید.\n",
        "</font>\n",
        "</p>"
      ]
    },
    {
      "cell_type": "code",
      "execution_count": 12,
      "id": "QfWwpVhl3y99",
      "metadata": {
        "colab": {
          "base_uri": "https://localhost:8080/",
          "height": 201
        },
        "id": "QfWwpVhl3y99",
        "outputId": "c492e4c8-24a3-4448-c108-287692e1056f"
      },
      "outputs": [
        {
          "data": {
            "text/plain": [
              "0.7368873183636118"
            ]
          },
          "execution_count": 12,
          "metadata": {},
          "output_type": "execute_result"
        }
      ],
      "source": [
        "# evaluate model\n",
        "from sklearn.metrics import r2_score\n",
        "r2_lgbm = r2_score(y_val, y_pred_lgbm)\n",
        "r2_lgbm"
      ]
    },
    {
      "cell_type": "markdown",
      "id": "HvkFvwjm3y99",
      "metadata": {
        "id": "HvkFvwjm3y99"
      },
      "source": [
        "<h2 align=right style=\"line-height:200%;font-family:vazir;color:#0099cc\">\n",
        "<font face=\"vazir\" color=\"#0099cc\">\n",
        " پیش‌بینی برای داده تست و خروجی\n",
        "</font>\n",
        "</h2>\n",
        "\n",
        "<p dir=rtl style=\"direction: rtl;text-align: right;line-height:200%;font-family:vazir;font-size:medium\">\n",
        "<font face=\"vazir\" size=3>\n",
        "    پس از مهندسی ویژگی و مدلسازی، الگوریتمی دارید که می‌تواند شما را از متغیرهای مستقل به متغیر هدف برساند.\n",
        "    <br>\n",
        "    از این مدل برای پیش‌بینی نمونه‌های موجود در داده تست استفاده کنید و نتایج را در قالب جدول (<code>dataframe</code>) زیر آماده کنید.\n",
        "</font>\n",
        "</p>\n",
        "\n",
        "<div dir=rtl style=\"direction: rtl;text-align: center;line-height:200%;font-family:vazir;font-size:medium\">\n",
        "<font face=\"vazir\" size=3>\n",
        "    \n",
        "|ستون|توضیحات|\n",
        "|------|---|\n",
        "|Rating|امتیاز داده شده توسط کاربر|\n",
        "    \n",
        "</font>\n",
        "</div>\n",
        "\n"
      ]
    },
    {
      "cell_type": "markdown",
      "id": "4JvWQgCR3y99",
      "metadata": {
        "id": "4JvWQgCR3y99"
      },
      "source": [
        "<p dir=rtl style=\"direction: rtl;text-align: right;line-height:200%;font-family:vazir;font-size:medium\">\n",
        "<font face=\"vazir\" size=3>\n",
        "    اسم دیتافریم باید <i>submission</i> باشد؛ در غیر این صورت، سامانه داوری نمی‌تواند تلاش‌ شما را ارزیابی کند.\n",
        "    <br>\n",
        "    این دیتافریم تنها شامل ۱ ستون با اسم <i>Rating</i> است و ۲۷۶۵ سطر دارد.\n",
        "    <br>\n",
        "    به ازای هر سطر موجود در دیتافریم <i>test</i> شما باید یک مقدار پیشبینی شده داشته باشید.\n",
        "    <br>\n",
        "    جدول زیر، ۵ سطر ابتدایی دیتافریم <code>submission</code> را نشان می‌دهد. البته در جواب شما، مقادیر ستون <i>Rating</i> ممکن است متفاوت باشد.\n",
        "</font>\n",
        "</p>\n",
        "\n",
        "<div style=\"text-align: center;line-height:200%;font-family:vazir;font-size:medium\">\n",
        "<font face=\"vazir\" size=3>\n",
        "    \n",
        "|Rating|\n",
        "|-----|\n",
        "|1|\n",
        "|10|\n",
        "|3|\n",
        "|7|\n",
        "|2|\n",
        "\n",
        "</font>\n",
        "</div>\n",
        "\n"
      ]
    },
    {
      "cell_type": "code",
      "execution_count": null,
      "id": "WQLZ_-7w-pwX",
      "metadata": {
        "id": "WQLZ_-7w-pwX"
      },
      "outputs": [],
      "source": [
        "test_data"
      ]
    },
    {
      "cell_type": "code",
      "execution_count": 15,
      "id": "ADQ3dD7-3y99",
      "metadata": {
        "colab": {
          "base_uri": "https://localhost:8080/",
          "height": 424
        },
        "id": "ADQ3dD7-3y99",
        "outputId": "af29cdf6-1ec2-45ec-a46e-844a45b7de85"
      },
      "outputs": [
        {
          "name": "stdout",
          "output_type": "stream",
          "text": [
            "[LightGBM] [Warning] min_data_in_leaf is set=50, min_child_samples=20 will be ignored. Current value: min_data_in_leaf=50\n",
            "[LightGBM] [Warning] lambda_l1 is set=0.1, reg_alpha=0.0 will be ignored. Current value: lambda_l1=0.1\n",
            "[LightGBM] [Warning] lambda_l2 is set=0.1, reg_lambda=0.0 will be ignored. Current value: lambda_l2=0.1\n"
          ]
        },
        {
          "data": {
            "text/html": [
              "<div>\n",
              "<style scoped>\n",
              "    .dataframe tbody tr th:only-of-type {\n",
              "        vertical-align: middle;\n",
              "    }\n",
              "\n",
              "    .dataframe tbody tr th {\n",
              "        vertical-align: top;\n",
              "    }\n",
              "\n",
              "    .dataframe thead th {\n",
              "        text-align: right;\n",
              "    }\n",
              "</style>\n",
              "<table border=\"1\" class=\"dataframe\">\n",
              "  <thead>\n",
              "    <tr style=\"text-align: right;\">\n",
              "      <th></th>\n",
              "      <th>Rating</th>\n",
              "    </tr>\n",
              "  </thead>\n",
              "  <tbody>\n",
              "    <tr>\n",
              "      <th>0</th>\n",
              "      <td>10.0</td>\n",
              "    </tr>\n",
              "    <tr>\n",
              "      <th>1</th>\n",
              "      <td>6.0</td>\n",
              "    </tr>\n",
              "    <tr>\n",
              "      <th>2</th>\n",
              "      <td>6.0</td>\n",
              "    </tr>\n",
              "    <tr>\n",
              "      <th>3</th>\n",
              "      <td>9.0</td>\n",
              "    </tr>\n",
              "    <tr>\n",
              "      <th>4</th>\n",
              "      <td>8.0</td>\n",
              "    </tr>\n",
              "    <tr>\n",
              "      <th>...</th>\n",
              "      <td>...</td>\n",
              "    </tr>\n",
              "    <tr>\n",
              "      <th>2758</th>\n",
              "      <td>8.0</td>\n",
              "    </tr>\n",
              "    <tr>\n",
              "      <th>2759</th>\n",
              "      <td>6.0</td>\n",
              "    </tr>\n",
              "    <tr>\n",
              "      <th>2760</th>\n",
              "      <td>3.0</td>\n",
              "    </tr>\n",
              "    <tr>\n",
              "      <th>2761</th>\n",
              "      <td>5.0</td>\n",
              "    </tr>\n",
              "    <tr>\n",
              "      <th>2762</th>\n",
              "      <td>6.0</td>\n",
              "    </tr>\n",
              "  </tbody>\n",
              "</table>\n",
              "<p>2763 rows × 1 columns</p>\n",
              "</div>"
            ],
            "text/plain": [
              "      Rating\n",
              "0       10.0\n",
              "1        6.0\n",
              "2        6.0\n",
              "3        9.0\n",
              "4        8.0\n",
              "...      ...\n",
              "2758     8.0\n",
              "2759     6.0\n",
              "2760     3.0\n",
              "2761     5.0\n",
              "2762     6.0\n",
              "\n",
              "[2763 rows x 1 columns]"
            ]
          },
          "execution_count": 15,
          "metadata": {},
          "output_type": "execute_result"
        }
      ],
      "source": [
        "# predict test samples\n",
        "test_pred=lgbm.predict(X_test)\n",
        "test_pred=test_pred.round().astype(float)\n",
        "submission = pd.DataFrame({\n",
        "    'Rating':test_pred\n",
        "})\n",
        "submission\n"
      ]
    },
    {
      "cell_type": "markdown",
      "id": "3yXCZ9RF3y99",
      "metadata": {
        "id": "3yXCZ9RF3y99"
      },
      "source": [
        "<h2 align=right style=\"line-height:200%;font-family:vazir;color:#0099cc\">\n",
        "<font face=\"vazir\" color=\"#0099cc\">\n",
        "<b>سلول جواب‌ساز</b>\n",
        "</font>\n",
        "</h2>\n",
        "\n",
        "<p dir=rtl style=\"direction: rtl; text-align: justify; line-height:200%; font-family:vazir; font-size:medium\">\n",
        "<font face=\"vazir\" size=3>\n",
        "    برای ساخته‌شدن فایل <code>result.zip</code> سلول زیر را اجرا کنید. توجه داشته باشید که پیش از اجرای سلول زیر تغییرات اعمال شده در نت‌بوک را ذخیره کرده باشید (<code>ctrl+s</code>) تا در صورت نیاز به پشتیبانی امکان بررسی کد شما وجود داشته باشد.\n",
        "</font>\n",
        "</p>"
      ]
    },
    {
      "cell_type": "code",
      "execution_count": 16,
      "id": "KaMNMA4h3y99",
      "metadata": {
        "colab": {
          "base_uri": "https://localhost:8080/",
          "height": 373
        },
        "id": "KaMNMA4h3y99",
        "outputId": "76b2998e-d59d-4da3-f567-0b7906be5202"
      },
      "outputs": [
        {
          "name": "stdout",
          "output_type": "stream",
          "text": [
            "File Paths:\n",
            "['ChandMidi.ipynb', 'submission.csv']\n"
          ]
        }
      ],
      "source": [
        "import zipfile\n",
        "import joblib\n",
        "\n",
        "def compress(file_names):\n",
        "    print(\"File Paths:\")\n",
        "    print(file_names)\n",
        "    compression = zipfile.ZIP_DEFLATED\n",
        "    with zipfile.ZipFile(\"result.zip\", mode=\"w\") as zf:\n",
        "        for file_name in file_names:\n",
        "            zf.write('./' + file_name, file_name, compress_type=compression)\n",
        "\n",
        "submission.to_csv('submission.csv', index=False)\n",
        "file_names = ['ChandMidi.ipynb', 'submission.csv']\n",
        "compress(file_names)"
      ]
    }
  ],
  "metadata": {
    "accelerator": "TPU",
    "colab": {
      "gpuType": "V28",
      "provenance": []
    },
    "kaggle": {
      "accelerator": "none",
      "dataSources": [
        {
          "datasetId": 5773065,
          "sourceId": 9489099,
          "sourceType": "datasetVersion"
        }
      ],
      "dockerImageVersionId": 30775,
      "isGpuEnabled": false,
      "isInternetEnabled": true,
      "language": "python",
      "sourceType": "notebook"
    },
    "kernelspec": {
      "display_name": "Python 3",
      "name": "python3"
    },
    "language_info": {
      "codemirror_mode": {
        "name": "ipython",
        "version": 3
      },
      "file_extension": ".py",
      "mimetype": "text/x-python",
      "name": "python",
      "nbconvert_exporter": "python",
      "pygments_lexer": "ipython3",
      "version": "3.11.2"
    }
  },
  "nbformat": 4,
  "nbformat_minor": 5
}
